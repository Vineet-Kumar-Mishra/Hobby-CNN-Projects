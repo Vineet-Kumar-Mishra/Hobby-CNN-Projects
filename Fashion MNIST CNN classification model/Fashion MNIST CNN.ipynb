{
 "cells": [
  {
   "cell_type": "markdown",
   "metadata": {},
   "source": [
    "# Import important libraries"
   ]
  },
  {
   "cell_type": "code",
   "execution_count": 1,
   "metadata": {},
   "outputs": [],
   "source": [
    "import numpy as np \n",
    "import matplotlib.pyplot as plt\n",
    "from tensorflow.keras.models import Model\n",
    "from tensorflow.keras.layers import Input, Conv2D, Dense, Flatten, Dropout\n",
    "import tensorflow as tf"
   ]
  },
  {
   "cell_type": "markdown",
   "metadata": {},
   "source": [
    "# Load the fashion Mnist data rom keras datasets in form of tuple of training and test set data\n",
    "\n",
    "### Once Loaded we will normalize the data"
   ]
  },
  {
   "cell_type": "code",
   "execution_count": 2,
   "metadata": {},
   "outputs": [
    {
     "name": "stdout",
     "output_type": "stream",
     "text": [
      "Downloading data from https://storage.googleapis.com/tensorflow/tf-keras-datasets/train-labels-idx1-ubyte.gz\n",
      "32768/29515 [=================================] - 0s 2us/step\n",
      "Downloading data from https://storage.googleapis.com/tensorflow/tf-keras-datasets/train-images-idx3-ubyte.gz\n",
      "26427392/26421880 [==============================] - 8s 0us/step\n",
      "Downloading data from https://storage.googleapis.com/tensorflow/tf-keras-datasets/t10k-labels-idx1-ubyte.gz\n",
      "8192/5148 [===============================================] - 0s 0s/step\n",
      "Downloading data from https://storage.googleapis.com/tensorflow/tf-keras-datasets/t10k-images-idx3-ubyte.gz\n",
      "4423680/4422102 [==============================] - 1s 0us/step\n"
     ]
    }
   ],
   "source": [
    "fashion_mnist = tf.keras.datasets.fashion_mnist\n",
    "\n",
    "(X_train, y_train), (X_test, y_test) = fashion_mnist.load_data()\n",
    "X_train = X_train/255.0\n",
    "X_test = X_test/255.0"
   ]
  },
  {
   "cell_type": "markdown",
   "metadata": {},
   "source": [
    "# The downloaded data has no channels which is required by CNN Conv2D layers\n",
    "\n",
    "### We simple use np.expand_dims to expand one more dimension "
   ]
  },
  {
   "cell_type": "code",
   "execution_count": 3,
   "metadata": {},
   "outputs": [],
   "source": [
    "X_train = np.expand_dims(X_train, -1)\n",
    "X_test = np.expand_dims(X_test, -1)"
   ]
  },
  {
   "cell_type": "code",
   "execution_count": 4,
   "metadata": {},
   "outputs": [
    {
     "name": "stdout",
     "output_type": "stream",
     "text": [
      "Number of classes are 10\n"
     ]
    }
   ],
   "source": [
    "k = len(set(y_train))\n",
    "print(\"Number of classes are\", k)"
   ]
  },
  {
   "cell_type": "markdown",
   "metadata": {},
   "source": [
    "# Creating CNN model\n",
    "\n",
    "### We use Conv2D with 32 filters and stride of 2 inplace of maxpooling layer with relu activation\n",
    "### We use Conv2D with 64 filters and stride of 2 inplace of maxpooling layer with relu activation\n",
    "### We use Conv2D with 128 filters and stride of 2 inplace of maxpooling layer with relu activation\n",
    "### We flatten the Conv2D layers using Flatten layer and place a Dropout layer with 0.2\n",
    "### We add Dense layer with 128 neurons and relu activation accompanied by a Dropout Layer with 0.2\n",
    "### Finally we add an output layer with 10 neurons (no of classes) with softmax activation\n",
    "### We use Adam as optimizer, sparse_categorical_crossentropy as loss and accuracy as metrics"
   ]
  },
  {
   "cell_type": "code",
   "execution_count": 6,
   "metadata": {},
   "outputs": [],
   "source": [
    "i = Input(shape = X_train[0].shape)\n",
    "l = Conv2D(32, (3,3), strides = 2, activation = 'relu')(i)\n",
    "l = Conv2D(64, (3,3), strides = 2, activation = 'relu')(l)\n",
    "l = Conv2D(128, (3,3), strides = 2, activation = 'relu')(l)\n",
    "l = Flatten()(l)\n",
    "l = Dropout(0.2)(l)\n",
    "l = Dense(128, activation = 'relu')(l)\n",
    "l = Dropout(0.2)(l)\n",
    "l = Dense(k, activation = 'softmax')(l)"
   ]
  },
  {
   "cell_type": "code",
   "execution_count": 7,
   "metadata": {},
   "outputs": [],
   "source": [
    "model = Model(i,l)\n",
    "model.compile(optimizer = 'adam', loss = 'sparse_categorical_crossentropy', metrics = ['accuracy'])"
   ]
  },
  {
   "cell_type": "code",
   "execution_count": 8,
   "metadata": {},
   "outputs": [
    {
     "name": "stdout",
     "output_type": "stream",
     "text": [
      "Epoch 1/15\n",
      "1875/1875 [==============================] - 9s 4ms/step - loss: 0.7468 - accuracy: 0.7266 - val_loss: 0.4310 - val_accuracy: 0.8404\n",
      "Epoch 2/15\n",
      "1875/1875 [==============================] - 8s 4ms/step - loss: 0.3942 - accuracy: 0.8517 - val_loss: 0.3499 - val_accuracy: 0.8714\n",
      "Epoch 3/15\n",
      "1875/1875 [==============================] - 8s 4ms/step - loss: 0.3325 - accuracy: 0.8745 - val_loss: 0.3241 - val_accuracy: 0.8764\n",
      "Epoch 4/15\n",
      "1875/1875 [==============================] - 8s 4ms/step - loss: 0.3032 - accuracy: 0.8845 - val_loss: 0.3059 - val_accuracy: 0.8844\n",
      "Epoch 5/15\n",
      "1875/1875 [==============================] - 8s 4ms/step - loss: 0.2695 - accuracy: 0.8965 - val_loss: 0.3055 - val_accuracy: 0.8877\n",
      "Epoch 6/15\n",
      "1875/1875 [==============================] - 8s 4ms/step - loss: 0.2377 - accuracy: 0.9090 - val_loss: 0.2953 - val_accuracy: 0.8931\n",
      "Epoch 7/15\n",
      "1875/1875 [==============================] - 8s 4ms/step - loss: 0.2267 - accuracy: 0.9140 - val_loss: 0.3243 - val_accuracy: 0.8852\n",
      "Epoch 8/15\n",
      "1875/1875 [==============================] - 8s 4ms/step - loss: 0.2166 - accuracy: 0.9178 - val_loss: 0.2977 - val_accuracy: 0.8946\n",
      "Epoch 9/15\n",
      "1875/1875 [==============================] - 8s 4ms/step - loss: 0.1975 - accuracy: 0.9241 - val_loss: 0.2912 - val_accuracy: 0.9013\n",
      "Epoch 10/15\n",
      "1875/1875 [==============================] - 7s 4ms/step - loss: 0.1901 - accuracy: 0.9268 - val_loss: 0.2988 - val_accuracy: 0.8989\n",
      "Epoch 11/15\n",
      "1875/1875 [==============================] - 8s 4ms/step - loss: 0.1731 - accuracy: 0.9332 - val_loss: 0.3087 - val_accuracy: 0.9017\n",
      "Epoch 12/15\n",
      "1875/1875 [==============================] - 7s 4ms/step - loss: 0.1651 - accuracy: 0.9369 - val_loss: 0.3233 - val_accuracy: 0.8965\n",
      "Epoch 13/15\n",
      "1875/1875 [==============================] - 7s 4ms/step - loss: 0.1549 - accuracy: 0.9390 - val_loss: 0.3444 - val_accuracy: 0.8949\n",
      "Epoch 14/15\n",
      "1875/1875 [==============================] - 7s 4ms/step - loss: 0.1550 - accuracy: 0.9400 - val_loss: 0.3251 - val_accuracy: 0.8973\n",
      "Epoch 15/15\n",
      "1875/1875 [==============================] - 7s 4ms/step - loss: 0.1412 - accuracy: 0.9452 - val_loss: 0.3259 - val_accuracy: 0.8978\n"
     ]
    }
   ],
   "source": [
    "r = model.fit(X_train, y_train, validation_data = (X_test, y_test), epochs = 15)"
   ]
  },
  {
   "cell_type": "markdown",
   "metadata": {},
   "source": [
    "# The History\n",
    "\n",
    "### the model contains history object containing losses and accuracy\n",
    "### We plot the accuracy and losses using matplotlib"
   ]
  },
  {
   "cell_type": "code",
   "execution_count": 10,
   "metadata": {},
   "outputs": [
    {
     "data": {
      "text/plain": [
       "Text(0.5, 1.0, 'Accuracy')"
      ]
     },
     "execution_count": 10,
     "metadata": {},
     "output_type": "execute_result"
    },
    {
     "data": {
      "image/png": "[encoded data removed]",
      "text/plain": [
       "<Figure size 432x288 with 1 Axes>"
      ]
     },
     "metadata": {
      "needs_background": "light"
     },
     "output_type": "display_data"
    }
   ],
   "source": [
    "plt.plot(r.history['accuracy'], label = 'Training Accuracy')\n",
    "plt.plot(r.history['val_accuracy'], label = 'Testing Accuracy')\n",
    "plt.legend();\n",
    "plt.xlabel(\"Epochs\")\n",
    "plt.ylabel(\"Accuracy\")\n",
    "plt.title(\"Accuracy\")"
   ]
  },
  {
   "cell_type": "code",
   "execution_count": 11,
   "metadata": {},
   "outputs": [
    {
     "data": {
      "text/plain": [
       "Text(0.5, 1.0, 'Loss')"
      ]
     },
     "execution_count": 11,
     "metadata": {},
     "output_type": "execute_result"
    },
    {
     "data": {
      "image/png": "[encoded data removed]",
      "text/plain": [
       "<Figure size 432x288 with 1 Axes>"
      ]
     },
     "metadata": {
      "needs_background": "light"
     },
     "output_type": "display_data"
    }
   ],
   "source": [
    "plt.plot(r.history['loss'], label = 'Training Loss')\n",
    "plt.plot(r.history['val_loss'], label = 'Testing Loss')\n",
    "plt.legend();\n",
    "plt.xlabel(\"Epochs\")\n",
    "plt.ylabel(\"Loss\")\n",
    "plt.title(\"Loss\")"
   ]
  }
 ],
 "metadata": {
  "kernelspec": {
   "display_name": "Python 3",
   "language": "python",
   "name": "python3"
  },
  "language_info": {
   "codemirror_mode": {
    "name": "ipython",
    "version": 3
   },
   "file_extension": ".py",
   "mimetype": "text/x-python",
   "name": "python",
   "nbconvert_exporter": "python",
   "pygments_lexer": "ipython3",
   "version": "3.8.3"
  }
 },
 "nbformat": 4,
 "nbformat_minor": 4
}
