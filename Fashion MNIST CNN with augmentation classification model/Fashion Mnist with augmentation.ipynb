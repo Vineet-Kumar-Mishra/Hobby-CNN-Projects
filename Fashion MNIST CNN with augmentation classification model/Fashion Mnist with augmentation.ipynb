{
 "cells": [
  {
   "cell_type": "markdown",
   "metadata": {},
   "source": [
    "# Importing important Libraries"
   ]
  },
  {
   "cell_type": "code",
   "execution_count": 1,
   "metadata": {},
   "outputs": [],
   "source": [
    "import tensorflow as tf\n",
    "import numpy as np\n",
    "import matplotlib.pyplot as plt\n",
    "from tensorflow.keras import datasets\n",
    "from tensorflow.keras.layers import Conv2D, Dense,Flatten, Dropout\n",
    "from tensorflow.keras.models import Sequential"
   ]
  },
  {
   "cell_type": "markdown",
   "metadata": {},
   "source": [
    "# Load the fashion Mnist data from keras datsets in form of tuple of training and test set data\n",
    "\n",
    "### After loading we normalize the images and change the dimensions i.e add channels in image"
   ]
  },
  {
   "cell_type": "code",
   "execution_count": 2,
   "metadata": {},
   "outputs": [],
   "source": [
    "fashion_mnist = datasets.fashion_mnist\n",
    "(X_train, y_train), (X_test, y_test) = fashion_mnist.load_data()"
   ]
  },
  {
   "cell_type": "code",
   "execution_count": 3,
   "metadata": {},
   "outputs": [
    {
     "name": "stdout",
     "output_type": "stream",
     "text": [
      "shape of training data is (60000, 28, 28)\n",
      "New dimensions of training data is (60000, 28, 28, 1)\n"
     ]
    }
   ],
   "source": [
    "print(\"shape of training data is\", X_train.shape)\n",
    "\n",
    "# Normalize the images\n",
    "X_train = X_train/255.0\n",
    "X_test = X_test/255.0\n",
    "\n",
    "# make the dimensions suitable for CNN\n",
    "X_train = np.expand_dims(X_train,-1)\n",
    "X_test = np.expand_dims(X_test, -1)\n",
    "\n",
    "# make the dimensions suitable for CNN\n",
    "y_train = y_train.flatten()\n",
    "y_test = y_test.flatten()\n",
    "\n",
    "print('New dimensions of training data is', X_train.shape)"
   ]
  },
  {
   "cell_type": "markdown",
   "metadata": {},
   "source": [
    "# Creating CNN model\n",
    "### We use Conv2D with 32 filters and stride of 2 inplace of maxpooling layer with relu activation\n",
    "### We use Conv2D with 64 filters and stride of 2 inplace of maxpooling layer with relu activation\n",
    "### We use Conv2D with 128 filters and stride of 2 inplace of maxpooling layer with relu activation\n",
    "### We flatten the Conv2D layers using Flatten layer and place a Dropout layer with 0.2\n",
    "### We add Dense layer with 128 neurons and relu activation accompanied by a Dropout Layer with 0.2\n",
    "### Finally we add an output layer with 10 neurons (no of classes) with softmax activation\n",
    "### We use Adam as optimizer, sparse_categorical_crossentropy as loss and accuracy as metrics"
   ]
  },
  {
   "cell_type": "code",
   "execution_count": 4,
   "metadata": {},
   "outputs": [],
   "source": [
    "model = Sequential([\n",
    "        Conv2D(32, (3,3), strides = 2, activation = 'relu', input_shape = (X_train[0].shape)),\n",
    "        Conv2D(64, (3,3), strides = 2, activation = 'relu'),\n",
    "        Conv2D(128, (3,3), strides = 2, activation = 'relu'),\n",
    "        Flatten(),\n",
    "        Dropout(0.2),\n",
    "        Dense(128, activation = 'relu'),\n",
    "        Dropout(0.2),\n",
    "        Dense(10, activation = 'softmax')    \n",
    "        ])\n",
    "\n",
    "model.compile(optimizer = 'adam', loss = 'sparse_categorical_crossentropy', metrics = ['accuracy'])"
   ]
  },
  {
   "cell_type": "markdown",
   "metadata": {},
   "source": [
    "# Augmentation of training data\n",
    "### We use ImageDataGenerator of keras to preprocess the images i.e. augmentation\n",
    "### The augmentation helps to avoid overfitting and the model generalizes better\n",
    "### The following are added as parameter of augementation\n",
    "### i. rotation range in degress\n",
    "### ii. Zoom range\n",
    "### iii. width shift \n",
    "### iv. horizontal flip"
   ]
  },
  {
   "cell_type": "code",
   "execution_count": 5,
   "metadata": {},
   "outputs": [],
   "source": [
    "# data augmention step\n",
    "from tensorflow.keras.preprocessing.image import ImageDataGenerator\n",
    "\n",
    "datagen = ImageDataGenerator(\n",
    "            rotation_range = 10,\n",
    "            zoom_range = 0.1,\n",
    "            width_shift_range = 0.1,\n",
    "            height_shift_range = 0.1,\n",
    "            horizontal_flip = True,\n",
    "            )"
   ]
  },
  {
   "cell_type": "markdown",
   "metadata": {},
   "source": [
    "# Once the datagenerator is created we make the flow \n",
    "### Make the flow using training data i.e it creates augmented images on the go so no need to save it in the memory\n",
    "### Steps per epoch is calculated by dividing total samples by the required batch size. This parameter is used in training the model"
   ]
  },
  {
   "cell_type": "code",
   "execution_count": 6,
   "metadata": {},
   "outputs": [],
   "source": [
    "# generator and compiling\n",
    "batch_size = 32\n",
    "training_generator = datagen.flow(X_train, y_train, batch_size = batch_size)\n",
    "steps_per_epoch = X_train.shape[0]//batch_size"
   ]
  },
  {
   "cell_type": "code",
   "execution_count": 7,
   "metadata": {},
   "outputs": [
    {
     "name": "stdout",
     "output_type": "stream",
     "text": [
      "Model: \"sequential\"\n",
      "_________________________________________________________________\n",
      "Layer (type)                 Output Shape              Param #   \n",
      "=================================================================\n",
      "conv2d (Conv2D)              (None, 13, 13, 32)        320       \n",
      "_________________________________________________________________\n",
      "conv2d_1 (Conv2D)            (None, 6, 6, 64)          18496     \n",
      "_________________________________________________________________\n",
      "conv2d_2 (Conv2D)            (None, 2, 2, 128)         73856     \n",
      "_________________________________________________________________\n",
      "flatten (Flatten)            (None, 512)               0         \n",
      "_________________________________________________________________\n",
      "dropout (Dropout)            (None, 512)               0         \n",
      "_________________________________________________________________\n",
      "dense (Dense)                (None, 128)               65664     \n",
      "_________________________________________________________________\n",
      "dropout_1 (Dropout)          (None, 128)               0         \n",
      "_________________________________________________________________\n",
      "dense_1 (Dense)              (None, 10)                1290      \n",
      "=================================================================\n",
      "Total params: 159,626\n",
      "Trainable params: 159,626\n",
      "Non-trainable params: 0\n",
      "_________________________________________________________________\n"
     ]
    }
   ],
   "source": [
    "model.summary()"
   ]
  },
  {
   "cell_type": "markdown",
   "metadata": {},
   "source": [
    "# Fitting the model\n",
    "### We use the flow created using ImageDataGenerator to train the model"
   ]
  },
  {
   "cell_type": "code",
   "execution_count": 8,
   "metadata": {},
   "outputs": [
    {
     "name": "stdout",
     "output_type": "stream",
     "text": [
      "Epoch 1/20\n",
      "1875/1875 [==============================] - 18s 10ms/step - loss: 1.0381 - accuracy: 0.6148 - val_loss: 0.5403 - val_accuracy: 0.7906\n",
      "Epoch 2/20\n",
      "1875/1875 [==============================] - 17s 9ms/step - loss: 0.6428 - accuracy: 0.7561 - val_loss: 0.4813 - val_accuracy: 0.8144\n",
      "Epoch 3/20\n",
      "1875/1875 [==============================] - 16s 9ms/step - loss: 0.5761 - accuracy: 0.7800 - val_loss: 0.4636 - val_accuracy: 0.8176\n",
      "Epoch 4/20\n",
      "1875/1875 [==============================] - 16s 9ms/step - loss: 0.5297 - accuracy: 0.7994 - val_loss: 0.4329 - val_accuracy: 0.8339\n",
      "Epoch 5/20\n",
      "1875/1875 [==============================] - 16s 9ms/step - loss: 0.5080 - accuracy: 0.8079 - val_loss: 0.4143 - val_accuracy: 0.8472\n",
      "Epoch 6/20\n",
      "1875/1875 [==============================] - 16s 9ms/step - loss: 0.4919 - accuracy: 0.8130 - val_loss: 0.3955 - val_accuracy: 0.8499\n",
      "Epoch 7/20\n",
      "1875/1875 [==============================] - 16s 9ms/step - loss: 0.4680 - accuracy: 0.8217 - val_loss: 0.3967 - val_accuracy: 0.8465\n",
      "Epoch 8/20\n",
      "1875/1875 [==============================] - 16s 9ms/step - loss: 0.4555 - accuracy: 0.8286 - val_loss: 0.3694 - val_accuracy: 0.8642\n",
      "Epoch 9/20\n",
      "1875/1875 [==============================] - 16s 9ms/step - loss: 0.4430 - accuracy: 0.8327 - val_loss: 0.3919 - val_accuracy: 0.8580\n",
      "Epoch 10/20\n",
      "1875/1875 [==============================] - 17s 9ms/step - loss: 0.4368 - accuracy: 0.8380 - val_loss: 0.3544 - val_accuracy: 0.8704\n",
      "Epoch 11/20\n",
      "1875/1875 [==============================] - 16s 9ms/step - loss: 0.4243 - accuracy: 0.8399 - val_loss: 0.3532 - val_accuracy: 0.8684\n",
      "Epoch 12/20\n",
      "1875/1875 [==============================] - 16s 9ms/step - loss: 0.4201 - accuracy: 0.8440 - val_loss: 0.3513 - val_accuracy: 0.8681\n",
      "Epoch 13/20\n",
      "1875/1875 [==============================] - 16s 9ms/step - loss: 0.4178 - accuracy: 0.8432 - val_loss: 0.3549 - val_accuracy: 0.8668\n",
      "Epoch 14/20\n",
      "1875/1875 [==============================] - 16s 9ms/step - loss: 0.4109 - accuracy: 0.8457 - val_loss: 0.3437 - val_accuracy: 0.8709\n",
      "Epoch 15/20\n",
      "1875/1875 [==============================] - 16s 9ms/step - loss: 0.4125 - accuracy: 0.8446 - val_loss: 0.3433 - val_accuracy: 0.8767\n",
      "Epoch 16/20\n",
      "1875/1875 [==============================] - 16s 9ms/step - loss: 0.4028 - accuracy: 0.8502 - val_loss: 0.3631 - val_accuracy: 0.8651\n",
      "Epoch 17/20\n",
      "1875/1875 [==============================] - 16s 9ms/step - loss: 0.4048 - accuracy: 0.8476 - val_loss: 0.3412 - val_accuracy: 0.8772\n",
      "Epoch 18/20\n",
      "1875/1875 [==============================] - 16s 9ms/step - loss: 0.4002 - accuracy: 0.8502 - val_loss: 0.3444 - val_accuracy: 0.8729\n",
      "Epoch 19/20\n",
      "1875/1875 [==============================] - 16s 9ms/step - loss: 0.3940 - accuracy: 0.8538 - val_loss: 0.3340 - val_accuracy: 0.8795\n",
      "Epoch 20/20\n",
      "1875/1875 [==============================] - 16s 9ms/step - loss: 0.3955 - accuracy: 0.8543 - val_loss: 0.3280 - val_accuracy: 0.8792\n"
     ]
    }
   ],
   "source": [
    "r = model.fit(training_generator,\n",
    "              validation_data = (X_test, y_test),\n",
    "              steps_per_epoch = steps_per_epoch,\n",
    "              epochs = 20)"
   ]
  },
  {
   "cell_type": "code",
   "execution_count": 9,
   "metadata": {},
   "outputs": [
    {
     "data": {
      "image/png": "[encoded data removed]",
      "text/plain": [
       "<Figure size 432x288 with 1 Axes>"
      ]
     },
     "metadata": {
      "needs_background": "light"
     },
     "output_type": "display_data"
    }
   ],
   "source": [
    "plt.plot(r.history['loss'], label = 'Training Loss')\n",
    "plt.plot(r.history['val_loss'], label = 'Testing Loss')\n",
    "plt.xlabel('Epochs')\n",
    "plt.ylabel('Loss')\n",
    "plt.title('Loss')\n",
    "plt.legend();"
   ]
  },
  {
   "cell_type": "markdown",
   "metadata": {},
   "source": [
    "# Plotting the history\n",
    "### We can see from both graphs that augmentation helps avoid overfitting "
   ]
  },
  {
   "cell_type": "code",
   "execution_count": 10,
   "metadata": {},
   "outputs": [
    {
     "data": {
      "image/png": "[encoded data removed]",
      "text/plain": [
       "<Figure size 432x288 with 1 Axes>"
      ]
     },
     "metadata": {
      "needs_background": "light"
     },
     "output_type": "display_data"
    }
   ],
   "source": [
    "plt.plot(r.history['accuracy'], label = 'Training Accuracy')\n",
    "plt.plot(r.history['val_accuracy'], label = 'Testing Accuracy')\n",
    "plt.xlabel('Epochs')\n",
    "plt.ylabel('Accuracy')\n",
    "plt.title('Accuracy')\n",
    "plt.legend();"
   ]
  }
 ],
 "metadata": {
  "kernelspec": {
   "display_name": "Python 3",
   "language": "python",
   "name": "python3"
  },
  "language_info": {
   "codemirror_mode": {
    "name": "ipython",
    "version": 3
   },
   "file_extension": ".py",
   "mimetype": "text/x-python",
   "name": "python",
   "nbconvert_exporter": "python",
   "pygments_lexer": "ipython3",
   "version": "3.8.3"
  }
 },
 "nbformat": 4,
 "nbformat_minor": 4
}
