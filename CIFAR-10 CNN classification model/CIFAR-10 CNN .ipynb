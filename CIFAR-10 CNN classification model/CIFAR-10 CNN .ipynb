{
 "cells": [
  {
   "cell_type": "markdown",
   "metadata": {},
   "source": [
    "# Importing important Libraries"
   ]
  },
  {
   "cell_type": "code",
   "execution_count": 1,
   "metadata": {},
   "outputs": [],
   "source": [
    "import tensorflow as tf\n",
    "import numpy as np\n",
    "import matplotlib.pyplot as plt\n",
    "from tensorflow.keras.layers import Conv2D, Flatten, MaxPooling2D, Dense, Dropout, BatchNormalization\n",
    "from tensorflow.keras.models import Sequential\n",
    "from tensorflow.keras import datasets"
   ]
  },
  {
   "cell_type": "markdown",
   "metadata": {},
   "source": [
    "# Load the CIFAR-10 dataset from keras datasets\n",
    "\n",
    "### Once loaded it's advisable to normalize the images and flatten the labels"
   ]
  },
  {
   "cell_type": "code",
   "execution_count": 2,
   "metadata": {},
   "outputs": [
    {
     "name": "stdout",
     "output_type": "stream",
     "text": [
      "Number of classes are 10\n"
     ]
    }
   ],
   "source": [
    "cifar_10 = datasets.cifar10\n",
    "(X_train, y_train), (X_test, y_test) = cifar_10.load_data()\n",
    "\n",
    "# Normalize the images\n",
    "X_train = X_train/255.0\n",
    "X_test = X_test/255.0\n",
    "\n",
    "# Flatten the labels\n",
    "y_train = y_train.flatten()\n",
    "y_test = y_test.flatten()\n",
    "\n",
    "# Number of labels\n",
    "# We know labels = 10 but use method\n",
    "k = len(set(y_train))\n",
    "print('Number of classes are', k)"
   ]
  },
  {
   "cell_type": "code",
   "execution_count": 3,
   "metadata": {},
   "outputs": [
    {
     "name": "stdout",
     "output_type": "stream",
     "text": [
      "size of training data (50000, 32, 32, 3)\n"
     ]
    }
   ],
   "source": [
    "print('size of training data', X_train.shape)"
   ]
  },
  {
   "cell_type": "markdown",
   "metadata": {},
   "source": [
    "# Creating the CNN Model\n",
    "\n",
    "### We use Conv2D with 32 filters and stride of 1 accompanied by activation of relu, maxpooling layer and Batchnormalization layer.\n",
    "### Above articheture is repeated with 64 and 128 filters respectively with same activation i.e ReLu\n",
    "### We add aFlatten layer and incude a dropout of 0.2 as regularization\n",
    "### In fullconnected layer we have 1024 neurons with relu activation and a Dropout of 0.2\n",
    "### In final layer we have 10 neurons with softmax activation\n",
    "\n",
    "### We use adam optimizer , sparse categorical crossentropy as loss and accuracy as metrics."
   ]
  },
  {
   "cell_type": "code",
   "execution_count": 4,
   "metadata": {},
   "outputs": [],
   "source": [
    "model = Sequential([\n",
    "            Conv2D(32, (3,3), strides = 1, input_shape = (X_train.shape[1:])),\n",
    "            MaxPooling2D((2,2)),\n",
    "            BatchNormalization(),\n",
    "            Conv2D(64, (3,3), strides = 1, activation = 'relu'),\n",
    "            MaxPooling2D((2,2)),\n",
    "            BatchNormalization(),\n",
    "            Conv2D(128, (3,3), strides = 1, activation = 'relu'),\n",
    "            MaxPooling2D((2,2)),\n",
    "            BatchNormalization(),\n",
    "            Flatten(),\n",
    "            Dropout(0.2),\n",
    "            Dense(1024, activation = 'relu'),\n",
    "            Dropout(0.2),\n",
    "            Dense(k, activation = 'softmax')\n",
    "            ])"
   ]
  },
  {
   "cell_type": "code",
   "execution_count": 5,
   "metadata": {},
   "outputs": [
    {
     "name": "stdout",
     "output_type": "stream",
     "text": [
      "Model: \"sequential\"\n",
      "_________________________________________________________________\n",
      "Layer (type)                 Output Shape              Param #   \n",
      "=================================================================\n",
      "conv2d (Conv2D)              (None, 30, 30, 32)        896       \n",
      "_________________________________________________________________\n",
      "max_pooling2d (MaxPooling2D) (None, 15, 15, 32)        0         \n",
      "_________________________________________________________________\n",
      "batch_normalization (BatchNo (None, 15, 15, 32)        128       \n",
      "_________________________________________________________________\n",
      "conv2d_1 (Conv2D)            (None, 13, 13, 64)        18496     \n",
      "_________________________________________________________________\n",
      "max_pooling2d_1 (MaxPooling2 (None, 6, 6, 64)          0         \n",
      "_________________________________________________________________\n",
      "batch_normalization_1 (Batch (None, 6, 6, 64)          256       \n",
      "_________________________________________________________________\n",
      "conv2d_2 (Conv2D)            (None, 4, 4, 128)         73856     \n",
      "_________________________________________________________________\n",
      "max_pooling2d_2 (MaxPooling2 (None, 2, 2, 128)         0         \n",
      "_________________________________________________________________\n",
      "batch_normalization_2 (Batch (None, 2, 2, 128)         512       \n",
      "_________________________________________________________________\n",
      "flatten (Flatten)            (None, 512)               0         \n",
      "_________________________________________________________________\n",
      "dropout (Dropout)            (None, 512)               0         \n",
      "_________________________________________________________________\n",
      "dense (Dense)                (None, 1024)              525312    \n",
      "_________________________________________________________________\n",
      "dropout_1 (Dropout)          (None, 1024)              0         \n",
      "_________________________________________________________________\n",
      "dense_1 (Dense)              (None, 10)                10250     \n",
      "=================================================================\n",
      "Total params: 629,706\n",
      "Trainable params: 629,258\n",
      "Non-trainable params: 448\n",
      "_________________________________________________________________\n"
     ]
    }
   ],
   "source": [
    "model.compile(optimizer = 'adam', loss = 'sparse_categorical_crossentropy', metrics = ['accuracy'])\n",
    "model.summary()"
   ]
  },
  {
   "cell_type": "markdown",
   "metadata": {},
   "source": [
    "# Augmenting the training data\n",
    "### We use ImageDataGenerator for augmentation task with following parameters\n",
    "### i. rotation range\n",
    "### ii. width shift range\n",
    "### iii. height shift range\n",
    "### iv. horizontal flip"
   ]
  },
  {
   "cell_type": "code",
   "execution_count": 6,
   "metadata": {},
   "outputs": [],
   "source": [
    "from tensorflow.keras.preprocessing.image import ImageDataGenerator\n",
    "\n",
    "datagen = ImageDataGenerator(\n",
    "                rotation_range=20,\n",
    "                width_shift_range=0.2,\n",
    "                height_shift_range=0.2,\n",
    "                horizontal_flip=True,\n",
    "                            )\n",
    "\n",
    "batch_size = 32\n",
    "\n",
    "image_generator = datagen.flow(X_train, y_train, batch_size = batch_size)\n",
    "\n",
    "steps_per_epoch = X_train.shape[0]//batch_size"
   ]
  },
  {
   "cell_type": "markdown",
   "metadata": {},
   "source": [
    "# Fitting the model\n",
    "### We use the flow created using ImageDataGenerator to train the model"
   ]
  },
  {
   "cell_type": "code",
   "execution_count": 7,
   "metadata": {},
   "outputs": [
    {
     "name": "stdout",
     "output_type": "stream",
     "text": [
      "Epoch 1/80\n",
      "1562/1562 [==============================] - 63s 40ms/step - loss: 1.9400 - accuracy: 0.3394 - val_loss: 1.3709 - val_accuracy: 0.5227\n",
      "Epoch 2/80\n",
      "1562/1562 [==============================] - 61s 39ms/step - loss: 1.3998 - accuracy: 0.4978 - val_loss: 1.4236 - val_accuracy: 0.5292\n",
      "Epoch 3/80\n",
      "1562/1562 [==============================] - 62s 39ms/step - loss: 1.2667 - accuracy: 0.5526 - val_loss: 1.0766 - val_accuracy: 0.6229\n",
      "Epoch 4/80\n",
      "1562/1562 [==============================] - 62s 39ms/step - loss: 1.1962 - accuracy: 0.5763 - val_loss: 1.0510 - val_accuracy: 0.6283\n",
      "Epoch 5/80\n",
      "1562/1562 [==============================] - 61s 39ms/step - loss: 1.1512 - accuracy: 0.5938 - val_loss: 0.9980 - val_accuracy: 0.6505\n",
      "Epoch 6/80\n",
      "1562/1562 [==============================] - 62s 39ms/step - loss: 1.1094 - accuracy: 0.6131 - val_loss: 0.9869 - val_accuracy: 0.6630\n",
      "Epoch 7/80\n",
      "1562/1562 [==============================] - 61s 39ms/step - loss: 1.0593 - accuracy: 0.6280 - val_loss: 0.9050 - val_accuracy: 0.6878\n",
      "Epoch 8/80\n",
      "1562/1562 [==============================] - 62s 40ms/step - loss: 1.0416 - accuracy: 0.6377 - val_loss: 0.9198 - val_accuracy: 0.6838\n",
      "Epoch 9/80\n",
      "1562/1562 [==============================] - 62s 40ms/step - loss: 1.0058 - accuracy: 0.6509 - val_loss: 0.8700 - val_accuracy: 0.6995\n",
      "Epoch 10/80\n",
      "1562/1562 [==============================] - 62s 40ms/step - loss: 0.9892 - accuracy: 0.6530 - val_loss: 0.8121 - val_accuracy: 0.7227\n",
      "Epoch 11/80\n",
      "1562/1562 [==============================] - 62s 40ms/step - loss: 0.9740 - accuracy: 0.6578 - val_loss: 1.0697 - val_accuracy: 0.6471\n",
      "Epoch 12/80\n",
      "1562/1562 [==============================] - 62s 40ms/step - loss: 0.9612 - accuracy: 0.6654 - val_loss: 0.7848 - val_accuracy: 0.7255\n",
      "Epoch 13/80\n",
      "1562/1562 [==============================] - 62s 40ms/step - loss: 0.9317 - accuracy: 0.6736 - val_loss: 0.7786 - val_accuracy: 0.7337\n",
      "Epoch 14/80\n",
      "1562/1562 [==============================] - 62s 40ms/step - loss: 0.9240 - accuracy: 0.6772 - val_loss: 0.8060 - val_accuracy: 0.7284\n",
      "Epoch 15/80\n",
      "1562/1562 [==============================] - 62s 39ms/step - loss: 0.9098 - accuracy: 0.6840 - val_loss: 0.7563 - val_accuracy: 0.7419\n",
      "Epoch 16/80\n",
      "1562/1562 [==============================] - 62s 39ms/step - loss: 0.9076 - accuracy: 0.6842 - val_loss: 0.7795 - val_accuracy: 0.7408\n",
      "Epoch 17/80\n",
      "1562/1562 [==============================] - 62s 39ms/step - loss: 0.9004 - accuracy: 0.6885 - val_loss: 0.9681 - val_accuracy: 0.6778\n",
      "Epoch 18/80\n",
      "1562/1562 [==============================] - 62s 40ms/step - loss: 0.8714 - accuracy: 0.6962 - val_loss: 0.7556 - val_accuracy: 0.7453\n",
      "Epoch 19/80\n",
      "1562/1562 [==============================] - 62s 39ms/step - loss: 0.8736 - accuracy: 0.6971 - val_loss: 0.7561 - val_accuracy: 0.7379\n",
      "Epoch 20/80\n",
      "1562/1562 [==============================] - 62s 40ms/step - loss: 0.8550 - accuracy: 0.7005 - val_loss: 0.7451 - val_accuracy: 0.7460\n",
      "Epoch 21/80\n",
      "1562/1562 [==============================] - 62s 40ms/step - loss: 0.8416 - accuracy: 0.7075 - val_loss: 0.7037 - val_accuracy: 0.7624\n",
      "Epoch 22/80\n",
      "1562/1562 [==============================] - 62s 40ms/step - loss: 0.8386 - accuracy: 0.7096 - val_loss: 0.6376 - val_accuracy: 0.7817\n",
      "Epoch 23/80\n",
      "1562/1562 [==============================] - 62s 39ms/step - loss: 0.8386 - accuracy: 0.7070 - val_loss: 0.6662 - val_accuracy: 0.7720\n",
      "Epoch 24/80\n",
      "1562/1562 [==============================] - 62s 40ms/step - loss: 0.8218 - accuracy: 0.7164 - val_loss: 0.8864 - val_accuracy: 0.7061\n",
      "Epoch 25/80\n",
      "1562/1562 [==============================] - 62s 40ms/step - loss: 0.8264 - accuracy: 0.7124 - val_loss: 0.9383 - val_accuracy: 0.6872\n",
      "Epoch 26/80\n",
      "1562/1562 [==============================] - 62s 40ms/step - loss: 0.8121 - accuracy: 0.7169 - val_loss: 0.9990 - val_accuracy: 0.6701\n",
      "Epoch 27/80\n",
      "1562/1562 [==============================] - 62s 40ms/step - loss: 0.8082 - accuracy: 0.7208 - val_loss: 0.7651 - val_accuracy: 0.7416\n",
      "Epoch 28/80\n",
      "1562/1562 [==============================] - 62s 40ms/step - loss: 0.7958 - accuracy: 0.7221 - val_loss: 0.6590 - val_accuracy: 0.7745\n",
      "Epoch 29/80\n",
      "1562/1562 [==============================] - 62s 39ms/step - loss: 0.7993 - accuracy: 0.7194 - val_loss: 0.7049 - val_accuracy: 0.7618\n",
      "Epoch 30/80\n",
      "1562/1562 [==============================] - 61s 39ms/step - loss: 0.7971 - accuracy: 0.7242 - val_loss: 0.7052 - val_accuracy: 0.7615\n",
      "Epoch 31/80\n",
      "1562/1562 [==============================] - 61s 39ms/step - loss: 0.7925 - accuracy: 0.7239 - val_loss: 0.7429 - val_accuracy: 0.7500\n",
      "Epoch 32/80\n",
      "1562/1562 [==============================] - 62s 40ms/step - loss: 0.7791 - accuracy: 0.7337 - val_loss: 0.6938 - val_accuracy: 0.7632\n",
      "Epoch 33/80\n",
      "1562/1562 [==============================] - 62s 39ms/step - loss: 0.7814 - accuracy: 0.7286 - val_loss: 0.6397 - val_accuracy: 0.7790\n",
      "Epoch 34/80\n",
      "1562/1562 [==============================] - 62s 39ms/step - loss: 0.7704 - accuracy: 0.7335 - val_loss: 0.7300 - val_accuracy: 0.7534\n",
      "Epoch 35/80\n",
      "1562/1562 [==============================] - 62s 40ms/step - loss: 0.7709 - accuracy: 0.7338 - val_loss: 0.6527 - val_accuracy: 0.7748\n",
      "Epoch 36/80\n",
      "1562/1562 [==============================] - 62s 40ms/step - loss: 0.7616 - accuracy: 0.7346 - val_loss: 0.7424 - val_accuracy: 0.7419\n",
      "Epoch 37/80\n",
      "1562/1562 [==============================] - 66s 42ms/step - loss: 0.7609 - accuracy: 0.7350 - val_loss: 0.6431 - val_accuracy: 0.7802\n",
      "Epoch 38/80\n",
      "1562/1562 [==============================] - 63s 41ms/step - loss: 0.7599 - accuracy: 0.7390 - val_loss: 0.6833 - val_accuracy: 0.7678\n",
      "Epoch 39/80\n",
      "1562/1562 [==============================] - 66s 42ms/step - loss: 0.7568 - accuracy: 0.7352 - val_loss: 0.6425 - val_accuracy: 0.7807\n",
      "Epoch 40/80\n",
      "1562/1562 [==============================] - 68s 44ms/step - loss: 0.7399 - accuracy: 0.7420 - val_loss: 0.6023 - val_accuracy: 0.7938\n",
      "Epoch 41/80\n",
      "1562/1562 [==============================] - 68s 43ms/step - loss: 0.7472 - accuracy: 0.7420 - val_loss: 0.6735 - val_accuracy: 0.7675\n",
      "Epoch 42/80\n",
      "1562/1562 [==============================] - 68s 44ms/step - loss: 0.7458 - accuracy: 0.7425 - val_loss: 0.7196 - val_accuracy: 0.7523\n",
      "Epoch 43/80\n",
      "1562/1562 [==============================] - 67s 43ms/step - loss: 0.7428 - accuracy: 0.7451 - val_loss: 0.8052 - val_accuracy: 0.7369\n",
      "Epoch 44/80\n",
      "1562/1562 [==============================] - 66s 42ms/step - loss: 0.7469 - accuracy: 0.7452 - val_loss: 0.7397 - val_accuracy: 0.7499\n",
      "Epoch 45/80\n",
      "1562/1562 [==============================] - 66s 42ms/step - loss: 0.7460 - accuracy: 0.7447 - val_loss: 0.6371 - val_accuracy: 0.7813\n",
      "Epoch 46/80\n",
      "1562/1562 [==============================] - 67s 43ms/step - loss: 0.7323 - accuracy: 0.7453 - val_loss: 0.6379 - val_accuracy: 0.7847\n",
      "Epoch 47/80\n",
      "1562/1562 [==============================] - 64s 41ms/step - loss: 0.7223 - accuracy: 0.7462 - val_loss: 0.6000 - val_accuracy: 0.7963\n",
      "Epoch 48/80\n",
      "1562/1562 [==============================] - 61s 39ms/step - loss: 0.7292 - accuracy: 0.7472 - val_loss: 0.7625 - val_accuracy: 0.7512\n",
      "Epoch 49/80\n",
      "1562/1562 [==============================] - 63s 40ms/step - loss: 0.7235 - accuracy: 0.7490 - val_loss: 0.6292 - val_accuracy: 0.7893\n",
      "Epoch 50/80\n",
      "1562/1562 [==============================] - 65s 42ms/step - loss: 0.7021 - accuracy: 0.7566 - val_loss: 0.6789 - val_accuracy: 0.7695\n",
      "Epoch 51/80\n",
      "1562/1562 [==============================] - 64s 41ms/step - loss: 0.7137 - accuracy: 0.7524 - val_loss: 0.5465 - val_accuracy: 0.8140\n",
      "Epoch 52/80\n",
      "1562/1562 [==============================] - 62s 40ms/step - loss: 0.7243 - accuracy: 0.7502 - val_loss: 0.6766 - val_accuracy: 0.7675\n",
      "Epoch 53/80\n",
      "1562/1562 [==============================] - 62s 39ms/step - loss: 0.7227 - accuracy: 0.7480 - val_loss: 0.6657 - val_accuracy: 0.7760\n",
      "Epoch 54/80\n",
      "1562/1562 [==============================] - 59s 37ms/step - loss: 0.7174 - accuracy: 0.7509 - val_loss: 0.5880 - val_accuracy: 0.7966\n",
      "Epoch 55/80\n",
      "1562/1562 [==============================] - 65s 41ms/step - loss: 0.7051 - accuracy: 0.7603 - val_loss: 0.6055 - val_accuracy: 0.7898\n",
      "Epoch 56/80\n",
      "1562/1562 [==============================] - 60s 39ms/step - loss: 0.7104 - accuracy: 0.7556 - val_loss: 0.7087 - val_accuracy: 0.7688\n"
     ]
    },
    {
     "name": "stdout",
     "output_type": "stream",
     "text": [
      "Epoch 57/80\n",
      "1562/1562 [==============================] - 59s 38ms/step - loss: 0.7071 - accuracy: 0.7548 - val_loss: 0.6158 - val_accuracy: 0.7914\n",
      "Epoch 58/80\n",
      "1562/1562 [==============================] - 61s 39ms/step - loss: 0.7057 - accuracy: 0.7554 - val_loss: 0.5634 - val_accuracy: 0.8105\n",
      "Epoch 59/80\n",
      "1562/1562 [==============================] - 60s 39ms/step - loss: 0.7085 - accuracy: 0.7545 - val_loss: 0.5647 - val_accuracy: 0.8072\n",
      "Epoch 60/80\n",
      "1562/1562 [==============================] - 63s 40ms/step - loss: 0.7045 - accuracy: 0.7553 - val_loss: 0.6689 - val_accuracy: 0.7732\n",
      "Epoch 61/80\n",
      "1562/1562 [==============================] - 60s 38ms/step - loss: 0.6913 - accuracy: 0.7614 - val_loss: 0.6024 - val_accuracy: 0.7973\n",
      "Epoch 62/80\n",
      "1562/1562 [==============================] - 60s 38ms/step - loss: 0.7112 - accuracy: 0.7539 - val_loss: 0.6058 - val_accuracy: 0.7958\n",
      "Epoch 63/80\n",
      "1562/1562 [==============================] - 61s 39ms/step - loss: 0.6913 - accuracy: 0.7612 - val_loss: 0.6096 - val_accuracy: 0.7939\n",
      "Epoch 64/80\n",
      "1562/1562 [==============================] - 74s 47ms/step - loss: 0.6836 - accuracy: 0.7598 - val_loss: 0.5856 - val_accuracy: 0.7990\n",
      "Epoch 65/80\n",
      "1562/1562 [==============================] - 68s 44ms/step - loss: 0.6894 - accuracy: 0.7621 - val_loss: 0.6428 - val_accuracy: 0.7825\n",
      "Epoch 66/80\n",
      "1562/1562 [==============================] - 70s 45ms/step - loss: 0.6941 - accuracy: 0.7579 - val_loss: 0.5691 - val_accuracy: 0.8077\n",
      "Epoch 67/80\n",
      "1562/1562 [==============================] - 71s 45ms/step - loss: 0.6887 - accuracy: 0.7613 - val_loss: 0.6183 - val_accuracy: 0.7927\n",
      "Epoch 68/80\n",
      "1562/1562 [==============================] - 62s 40ms/step - loss: 0.6926 - accuracy: 0.7611 - val_loss: 0.6577 - val_accuracy: 0.7750\n",
      "Epoch 69/80\n",
      "1562/1562 [==============================] - 63s 40ms/step - loss: 0.6785 - accuracy: 0.7651 - val_loss: 0.6397 - val_accuracy: 0.7831\n",
      "Epoch 70/80\n",
      "1562/1562 [==============================] - 63s 40ms/step - loss: 0.6824 - accuracy: 0.7634 - val_loss: 0.5850 - val_accuracy: 0.8026\n",
      "Epoch 71/80\n",
      "1562/1562 [==============================] - 61s 39ms/step - loss: 0.6872 - accuracy: 0.7608 - val_loss: 0.6237 - val_accuracy: 0.7945\n",
      "Epoch 72/80\n",
      "1562/1562 [==============================] - 63s 40ms/step - loss: 0.6752 - accuracy: 0.7681 - val_loss: 0.6155 - val_accuracy: 0.7917\n",
      "Epoch 73/80\n",
      "1562/1562 [==============================] - 64s 41ms/step - loss: 0.6750 - accuracy: 0.7645 - val_loss: 0.6648 - val_accuracy: 0.7724\n",
      "Epoch 74/80\n",
      "1562/1562 [==============================] - 64s 41ms/step - loss: 0.6769 - accuracy: 0.7619 - val_loss: 0.6463 - val_accuracy: 0.7897\n",
      "Epoch 75/80\n",
      "1562/1562 [==============================] - 63s 40ms/step - loss: 0.6712 - accuracy: 0.7662 - val_loss: 0.5693 - val_accuracy: 0.8007\n",
      "Epoch 76/80\n",
      "1562/1562 [==============================] - 61s 39ms/step - loss: 0.6670 - accuracy: 0.7688 - val_loss: 0.5504 - val_accuracy: 0.8137\n",
      "Epoch 77/80\n",
      "1562/1562 [==============================] - 60s 39ms/step - loss: 0.6666 - accuracy: 0.7696 - val_loss: 0.6618 - val_accuracy: 0.7808\n",
      "Epoch 78/80\n",
      "1562/1562 [==============================] - 60s 39ms/step - loss: 0.6639 - accuracy: 0.7717 - val_loss: 0.5590 - val_accuracy: 0.8114\n",
      "Epoch 79/80\n",
      "1562/1562 [==============================] - 56s 36ms/step - loss: 0.6662 - accuracy: 0.7683 - val_loss: 0.5934 - val_accuracy: 0.8039\n",
      "Epoch 80/80\n",
      "1562/1562 [==============================] - 50s 32ms/step - loss: 0.6707 - accuracy: 0.7673 - val_loss: 0.5732 - val_accuracy: 0.8072\n"
     ]
    }
   ],
   "source": [
    "r = model.fit(image_generator, validation_data = (X_test, y_test), steps_per_epoch = steps_per_epoch, epochs = 80)"
   ]
  },
  {
   "cell_type": "markdown",
   "metadata": {},
   "source": [
    "# Plotting the history\n",
    "### We can see from the graphs that augmentation helped in avoiding overfitting"
   ]
  },
  {
   "cell_type": "code",
   "execution_count": 8,
   "metadata": {},
   "outputs": [
    {
     "data": {
      "image/png": "[encoded data removed]",
      "text/plain": [
       "<Figure size 432x288 with 1 Axes>"
      ]
     },
     "metadata": {
      "needs_background": "light"
     },
     "output_type": "display_data"
    }
   ],
   "source": [
    "plt.plot(r.history['loss'], label = 'Training loss')\n",
    "plt.plot(r.history['val_loss'], label = 'Testing loss')\n",
    "plt.legend();\n",
    "plt.xlabel('Epochs')\n",
    "plt.ylabel('Loss')\n",
    "plt.title('Loss');"
   ]
  },
  {
   "cell_type": "code",
   "execution_count": 9,
   "metadata": {},
   "outputs": [
    {
     "data": {
      "image/png": "[encoded data removed]",
      "text/plain": [
       "<Figure size 432x288 with 1 Axes>"
      ]
     },
     "metadata": {
      "needs_background": "light"
     },
     "output_type": "display_data"
    }
   ],
   "source": [
    "plt.plot(r.history['accuracy'], label = 'Training accuracy')\n",
    "plt.plot(r.history['val_accuracy'], label = 'Testing accuracy')\n",
    "plt.legend();\n",
    "plt.xlabel('Epochs')\n",
    "plt.ylabel('Accuracy')\n",
    "plt.title('Accuracy');"
   ]
  }
 ],
 "metadata": {
  "kernelspec": {
   "display_name": "Python 3",
   "language": "python",
   "name": "python3"
  },
  "language_info": {
   "codemirror_mode": {
    "name": "ipython",
    "version": 3
   },
   "file_extension": ".py",
   "mimetype": "text/x-python",
   "name": "python",
   "nbconvert_exporter": "python",
   "pygments_lexer": "ipython3",
   "version": "3.8.3"
  }
 },
 "nbformat": 4,
 "nbformat_minor": 4
}
