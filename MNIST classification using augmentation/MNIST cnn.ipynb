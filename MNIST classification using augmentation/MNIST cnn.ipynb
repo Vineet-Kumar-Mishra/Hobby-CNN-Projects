{
 "cells": [
  {
   "cell_type": "markdown",
   "id": "7c02bec8",
   "metadata": {},
   "source": [
    "# Important Libraries"
   ]
  },
  {
   "cell_type": "code",
   "execution_count": 11,
   "id": "1d478fe4",
   "metadata": {},
   "outputs": [],
   "source": [
    "import tensorflow as tf\n",
    "from tensorflow.keras.layers import Input, Conv2D, Dropout, Dense, Flatten\n",
    "from tensorflow.keras import datasets\n",
    "import matplotlib.pyplot as plt\n",
    "from tensorflow.keras.models import Model\n",
    "import numpy as np"
   ]
  },
  {
   "cell_type": "code",
   "execution_count": 7,
   "id": "44a07853",
   "metadata": {},
   "outputs": [
    {
     "name": "stdout",
     "output_type": "stream",
     "text": [
      "Found 1\n"
     ]
    }
   ],
   "source": [
    "physical_devices = tf.config.experimental.list_physical_devices('GPU')\n",
    "print(\"Found\", len(physical_devices))\n",
    "tf.config.experimental.set_memory_growth(physical_devices[0], True)"
   ]
  },
  {
   "cell_type": "markdown",
   "id": "85813687",
   "metadata": {},
   "source": [
    "# Loading the data and Normalizing\n",
    "## The data is normalized and dimensions are increased i.e channels in image"
   ]
  },
  {
   "cell_type": "code",
   "execution_count": 8,
   "id": "cdb00841",
   "metadata": {},
   "outputs": [],
   "source": [
    "mnist = datasets.mnist\n",
    "(x_train, y_train), (x_test, y_test) = mnist.load_data()"
   ]
  },
  {
   "cell_type": "code",
   "execution_count": 9,
   "id": "59e6797a",
   "metadata": {},
   "outputs": [],
   "source": [
    "x_train = x_train/255.0\n",
    "x_test = x_test/255.0\n",
    "\n",
    "y_train = np.array(y_train).flatten()\n",
    "y_test = np.array(y_test).flatten()\n",
    "\n",
    "x_train = np.expand_dims(x_train, -1)\n",
    "x_test = np.expand_dims(x_test, -1)"
   ]
  },
  {
   "cell_type": "markdown",
   "id": "26dfb2ff",
   "metadata": {},
   "source": [
    "# Tensorflow's functional API\n",
    "\n",
    "### We have used functional API to create the model\n",
    "### Model consists of 3 convolution layers with 32, 64, 128 filters respectively\n",
    "### Fully connected layer has 128 hidden neurons and 10 output neurons"
   ]
  },
  {
   "cell_type": "code",
   "execution_count": 13,
   "id": "26f1393b",
   "metadata": {},
   "outputs": [],
   "source": [
    "i = Input(shape = x_train.shape[1:])\n",
    "o = Conv2D(32, (3,3), strides = 2, activation = 'relu')(i)\n",
    "o = Conv2D(64, (3,3), strides = 2, activation = 'relu')(i)\n",
    "o = Conv2D(128, (3,3), strides = 2, activation = 'relu')(i)\n",
    "o = Flatten()(o)\n",
    "o = Dense(128, activation = 'relu')(o)\n",
    "o = Dropout(0.2)(o)\n",
    "o = Dense(10, activation = 'softmax')(o)"
   ]
  },
  {
   "cell_type": "code",
   "execution_count": 14,
   "id": "45e73346",
   "metadata": {},
   "outputs": [],
   "source": [
    "model = Model(i,o)"
   ]
  },
  {
   "cell_type": "code",
   "execution_count": 15,
   "id": "890ba3a2",
   "metadata": {},
   "outputs": [],
   "source": [
    "model.compile(optimizer = 'adam', loss = 'sparse_categorical_crossentropy', metrics = ['accuracy'])"
   ]
  },
  {
   "cell_type": "code",
   "execution_count": 16,
   "id": "c8392ba6",
   "metadata": {},
   "outputs": [
    {
     "name": "stdout",
     "output_type": "stream",
     "text": [
      "Model: \"model\"\n",
      "_________________________________________________________________\n",
      "Layer (type)                 Output Shape              Param #   \n",
      "=================================================================\n",
      "input_1 (InputLayer)         [(None, 28, 28, 1)]       0         \n",
      "_________________________________________________________________\n",
      "conv2d_2 (Conv2D)            (None, 13, 13, 128)       1280      \n",
      "_________________________________________________________________\n",
      "flatten (Flatten)            (None, 21632)             0         \n",
      "_________________________________________________________________\n",
      "dense (Dense)                (None, 128)               2769024   \n",
      "_________________________________________________________________\n",
      "dropout (Dropout)            (None, 128)               0         \n",
      "_________________________________________________________________\n",
      "dense_1 (Dense)              (None, 10)                1290      \n",
      "=================================================================\n",
      "Total params: 2,771,594\n",
      "Trainable params: 2,771,594\n",
      "Non-trainable params: 0\n",
      "_________________________________________________________________\n"
     ]
    }
   ],
   "source": [
    "model.summary()"
   ]
  },
  {
   "cell_type": "markdown",
   "id": "5d107e10",
   "metadata": {},
   "source": [
    "# ImageDataGenerator\n",
    "### We use it to avoid overfitting by augmenting the train data i.e rotation, zoom and shift"
   ]
  },
  {
   "cell_type": "code",
   "execution_count": 19,
   "id": "5f8b9cca",
   "metadata": {},
   "outputs": [],
   "source": [
    "from tensorflow.keras.preprocessing.image import ImageDataGenerator\n",
    "\n",
    "datagen = ImageDataGenerator(\n",
    "                            rotation_range=10,\n",
    "                            zoom_range=0.2,\n",
    "                            width_shift_range=0.1,\n",
    "                            height_shift_range=0.1,\n",
    "                            )"
   ]
  },
  {
   "cell_type": "code",
   "execution_count": 22,
   "id": "8ef3fb69",
   "metadata": {},
   "outputs": [],
   "source": [
    "batch_size = 32\n",
    "train_gen = datagen.flow(x_train, y_train, batch_size = batch_size)\n",
    "steps_per_epoch = x_train.shape[0]//batch_size"
   ]
  },
  {
   "cell_type": "markdown",
   "id": "cff73803",
   "metadata": {},
   "source": [
    "# Fitting the model\n",
    "### We train our model for 15 epochs"
   ]
  },
  {
   "cell_type": "code",
   "execution_count": 23,
   "id": "e40292aa",
   "metadata": {},
   "outputs": [
    {
     "name": "stdout",
     "output_type": "stream",
     "text": [
      "Epoch 1/15\n",
      "1875/1875 [==============================] - 19s 8ms/step - loss: 0.4156 - accuracy: 0.8689 - val_loss: 0.0830 - val_accuracy: 0.9724\n",
      "Epoch 2/15\n",
      "1875/1875 [==============================] - 14s 8ms/step - loss: 0.2053 - accuracy: 0.9367 - val_loss: 0.0586 - val_accuracy: 0.9811\n",
      "Epoch 3/15\n",
      "1875/1875 [==============================] - 14s 8ms/step - loss: 0.1678 - accuracy: 0.9483 - val_loss: 0.0497 - val_accuracy: 0.9846\n",
      "Epoch 4/15\n",
      "1875/1875 [==============================] - 14s 7ms/step - loss: 0.1491 - accuracy: 0.9541 - val_loss: 0.0496 - val_accuracy: 0.9836\n",
      "Epoch 5/15\n",
      "1875/1875 [==============================] - 14s 8ms/step - loss: 0.1291 - accuracy: 0.9605 - val_loss: 0.0401 - val_accuracy: 0.9859\n",
      "Epoch 6/15\n",
      "1875/1875 [==============================] - 14s 8ms/step - loss: 0.1214 - accuracy: 0.9632 - val_loss: 0.0383 - val_accuracy: 0.9868\n",
      "Epoch 7/15\n",
      "1875/1875 [==============================] - 14s 8ms/step - loss: 0.1116 - accuracy: 0.9646 - val_loss: 0.0354 - val_accuracy: 0.9881\n",
      "Epoch 8/15\n",
      "1875/1875 [==============================] - 14s 8ms/step - loss: 0.1075 - accuracy: 0.9676 - val_loss: 0.0389 - val_accuracy: 0.9870\n",
      "Epoch 9/15\n",
      "1875/1875 [==============================] - 14s 7ms/step - loss: 0.1039 - accuracy: 0.9681 - val_loss: 0.0366 - val_accuracy: 0.9871\n",
      "Epoch 10/15\n",
      "1875/1875 [==============================] - 14s 7ms/step - loss: 0.0980 - accuracy: 0.9709 - val_loss: 0.0311 - val_accuracy: 0.9890\n",
      "Epoch 11/15\n",
      "1875/1875 [==============================] - 14s 8ms/step - loss: 0.0980 - accuracy: 0.9702 - val_loss: 0.0393 - val_accuracy: 0.9873\n",
      "Epoch 12/15\n",
      "1875/1875 [==============================] - 14s 8ms/step - loss: 0.0940 - accuracy: 0.9706 - val_loss: 0.0345 - val_accuracy: 0.9890\n",
      "Epoch 13/15\n",
      "1875/1875 [==============================] - 14s 8ms/step - loss: 0.0900 - accuracy: 0.9731 - val_loss: 0.0469 - val_accuracy: 0.9855\n",
      "Epoch 14/15\n",
      "1875/1875 [==============================] - 14s 8ms/step - loss: 0.0874 - accuracy: 0.9737 - val_loss: 0.0330 - val_accuracy: 0.9895\n",
      "Epoch 15/15\n",
      "1875/1875 [==============================] - 14s 7ms/step - loss: 0.0832 - accuracy: 0.9732 - val_loss: 0.0315 - val_accuracy: 0.9894\n"
     ]
    }
   ],
   "source": [
    "r = model.fit(train_gen, validation_data = (x_test, y_test),\n",
    "             steps_per_epoch = steps_per_epoch, epochs = 15)"
   ]
  },
  {
   "cell_type": "markdown",
   "id": "f3f661a6",
   "metadata": {},
   "source": [
    "# History plotter function "
   ]
  },
  {
   "cell_type": "code",
   "execution_count": 24,
   "id": "341f88cc",
   "metadata": {},
   "outputs": [],
   "source": [
    "def history_plotter(model, subject):\n",
    "    plt.plot(model.history[subject], label = subject)\n",
    "    plt.plot(model.history['val_'+subject], label = 'validation '+subject)\n",
    "    plt.xlabel(\"Epochs\")\n",
    "    plt.ylabel(subject)\n",
    "    plt.legend()\n",
    "    plt.title(subject)"
   ]
  },
  {
   "cell_type": "markdown",
   "id": "2c04bc53",
   "metadata": {},
   "source": [
    "# Plotting the loss"
   ]
  },
  {
   "cell_type": "code",
   "execution_count": 25,
   "id": "1ba4bb48",
   "metadata": {},
   "outputs": [
    {
     "data": {
      "image/png": "[encoded data removed]",
      "text/plain": [
       "<Figure size 432x288 with 1 Axes>"
      ]
     },
     "metadata": {
      "needs_background": "light"
     },
     "output_type": "display_data"
    }
   ],
   "source": [
    "history_plotter(r, 'loss')"
   ]
  },
  {
   "cell_type": "markdown",
   "id": "17bc14b2",
   "metadata": {},
   "source": [
    "# Plotting the accuracy"
   ]
  },
  {
   "cell_type": "code",
   "execution_count": 27,
   "id": "73dae800",
   "metadata": {},
   "outputs": [
    {
     "data": {
      "image/png": "[encoded data removed]",
      "text/plain": [
       "<Figure size 432x288 with 1 Axes>"
      ]
     },
     "metadata": {
      "needs_background": "light"
     },
     "output_type": "display_data"
    }
   ],
   "source": [
    "history_plotter(r, 'accuracy')"
   ]
  },
  {
   "cell_type": "markdown",
   "id": "4495e7a7",
   "metadata": {},
   "source": [
    "# Checking Accuracy score\n",
    "### While training the model the train accuracy becomes 97.32% but in real case it is 99.02 %. This is due to augmentation.\n",
    "### Test accuracy becomes 98.94%"
   ]
  },
  {
   "cell_type": "code",
   "execution_count": 36,
   "id": "f6f199dc",
   "metadata": {},
   "outputs": [],
   "source": [
    "from sklearn.metrics import accuracy_score\n",
    "train_accuracy = accuracy_score(model.predict(x_train).argmax(axis = 1), y_train)\n",
    "test_accuracy = accuracy_score(model.predict(x_test).argmax(axis = 1), y_test)"
   ]
  },
  {
   "cell_type": "code",
   "execution_count": 37,
   "id": "e87c277e",
   "metadata": {},
   "outputs": [
    {
     "name": "stdout",
     "output_type": "stream",
     "text": [
      "Training Accuracy is 0.9902\n",
      "\n",
      "\n",
      "Testing Accuracy is 0.9894\n"
     ]
    }
   ],
   "source": [
    "print('Training Accuracy is', train_accuracy)\n",
    "print('\\n')\n",
    "print('Testing Accuracy is', test_accuracy)"
   ]
  },
  {
   "cell_type": "markdown",
   "id": "7e2e4415",
   "metadata": {},
   "source": [
    "# looking at missclassified results"
   ]
  },
  {
   "cell_type": "code",
   "execution_count": 48,
   "id": "443a9262",
   "metadata": {},
   "outputs": [],
   "source": [
    "y_pred = model.predict(x_test).argmax(axis = 1)\n",
    "error = np.where(y_pred != y_test)\n",
    "choice = np.random.choice(error[0])"
   ]
  },
  {
   "cell_type": "code",
   "execution_count": 51,
   "id": "08f1acf1",
   "metadata": {},
   "outputs": [
    {
     "data": {
      "image/png": "[encoded data removed]",
      "text/plain": [
       "<Figure size 432x288 with 1 Axes>"
      ]
     },
     "metadata": {
      "needs_background": "light"
     },
     "output_type": "display_data"
    }
   ],
   "source": [
    "plt.imshow(x_test[choice], cmap = 'gray')\n",
    "plt.title(f\"{y_test[choice]} is predicted as {y_pred[choice]}\");"
   ]
  }
 ],
 "metadata": {
  "kernelspec": {
   "display_name": "Python 3 (ipykernel)",
   "language": "python",
   "name": "python3"
  },
  "language_info": {
   "codemirror_mode": {
    "name": "ipython",
    "version": 3
   },
   "file_extension": ".py",
   "mimetype": "text/x-python",
   "name": "python",
   "nbconvert_exporter": "python",
   "pygments_lexer": "ipython3",
   "version": "3.9.6"
  }
 },
 "nbformat": 4,
 "nbformat_minor": 5
}
