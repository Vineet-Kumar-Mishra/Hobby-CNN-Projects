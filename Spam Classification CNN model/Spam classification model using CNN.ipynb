{
 "cells": [
  {
   "cell_type": "markdown",
   "id": "bf640586",
   "metadata": {},
   "source": [
    "# Importing important libraries"
   ]
  },
  {
   "cell_type": "code",
   "execution_count": 1,
   "id": "bbeb84cc",
   "metadata": {},
   "outputs": [],
   "source": [
    "import tensorflow as tf\n",
    "from tensorflow.keras.models import Model\n",
    "from tensorflow.keras.layers import Dense, Embedding, Input, Conv1D, MaxPooling1D, GlobalMaxPooling1D\n",
    "import numpy as np\n",
    "import pandas as pd\n",
    "import matplotlib.pyplot as plt\n",
    "from sklearn.model_selection import train_test_split\n",
    "from tensorflow.keras.preprocessing.text import Tokenizer\n",
    "from tensorflow.keras.preprocessing.sequence import pad_sequences"
   ]
  },
  {
   "cell_type": "markdown",
   "id": "c1dca74b",
   "metadata": {},
   "source": [
    "# The file spam.csv\n",
    "## This file has encoding 'ISO-8859-1'\n",
    "### Dropping the useless columns and renaming the columns\n",
    "### The labels are maped usign following dictionary {'ham' : 0, 'spam' : 1}"
   ]
  },
  {
   "cell_type": "code",
   "execution_count": 2,
   "id": "6fbdf3d3",
   "metadata": {},
   "outputs": [
    {
     "data": {
      "text/html": [
       "<div>\n",
       "<style scoped>\n",
       "    .dataframe tbody tr th:only-of-type {\n",
       "        vertical-align: middle;\n",
       "    }\n",
       "\n",
       "    .dataframe tbody tr th {\n",
       "        vertical-align: top;\n",
       "    }\n",
       "\n",
       "    .dataframe thead th {\n",
       "        text-align: right;\n",
       "    }\n",
       "</style>\n",
       "<table border=\"1\" class=\"dataframe\">\n",
       "  <thead>\n",
       "    <tr style=\"text-align: right;\">\n",
       "      <th></th>\n",
       "      <th>v1</th>\n",
       "      <th>v2</th>\n",
       "      <th>Unnamed: 2</th>\n",
       "      <th>Unnamed: 3</th>\n",
       "      <th>Unnamed: 4</th>\n",
       "    </tr>\n",
       "  </thead>\n",
       "  <tbody>\n",
       "    <tr>\n",
       "      <th>0</th>\n",
       "      <td>ham</td>\n",
       "      <td>Go until jurong point, crazy.. Available only ...</td>\n",
       "      <td>NaN</td>\n",
       "      <td>NaN</td>\n",
       "      <td>NaN</td>\n",
       "    </tr>\n",
       "    <tr>\n",
       "      <th>1</th>\n",
       "      <td>ham</td>\n",
       "      <td>Ok lar... Joking wif u oni...</td>\n",
       "      <td>NaN</td>\n",
       "      <td>NaN</td>\n",
       "      <td>NaN</td>\n",
       "    </tr>\n",
       "    <tr>\n",
       "      <th>2</th>\n",
       "      <td>spam</td>\n",
       "      <td>Free entry in 2 a wkly comp to win FA Cup fina...</td>\n",
       "      <td>NaN</td>\n",
       "      <td>NaN</td>\n",
       "      <td>NaN</td>\n",
       "    </tr>\n",
       "    <tr>\n",
       "      <th>3</th>\n",
       "      <td>ham</td>\n",
       "      <td>U dun say so early hor... U c already then say...</td>\n",
       "      <td>NaN</td>\n",
       "      <td>NaN</td>\n",
       "      <td>NaN</td>\n",
       "    </tr>\n",
       "    <tr>\n",
       "      <th>4</th>\n",
       "      <td>ham</td>\n",
       "      <td>Nah I don't think he goes to usf, he lives aro...</td>\n",
       "      <td>NaN</td>\n",
       "      <td>NaN</td>\n",
       "      <td>NaN</td>\n",
       "    </tr>\n",
       "  </tbody>\n",
       "</table>\n",
       "</div>"
      ],
      "text/plain": [
       "     v1                                                 v2 Unnamed: 2  \\\n",
       "0   ham  Go until jurong point, crazy.. Available only ...        NaN   \n",
       "1   ham                      Ok lar... Joking wif u oni...        NaN   \n",
       "2  spam  Free entry in 2 a wkly comp to win FA Cup fina...        NaN   \n",
       "3   ham  U dun say so early hor... U c already then say...        NaN   \n",
       "4   ham  Nah I don't think he goes to usf, he lives aro...        NaN   \n",
       "\n",
       "  Unnamed: 3 Unnamed: 4  \n",
       "0        NaN        NaN  \n",
       "1        NaN        NaN  \n",
       "2        NaN        NaN  \n",
       "3        NaN        NaN  \n",
       "4        NaN        NaN  "
      ]
     },
     "execution_count": 2,
     "metadata": {},
     "output_type": "execute_result"
    }
   ],
   "source": [
    "df = pd.read_csv('spam.csv', encoding = 'ISO-8859-1')\n",
    "df.head()"
   ]
  },
  {
   "cell_type": "code",
   "execution_count": 3,
   "id": "caebc483",
   "metadata": {},
   "outputs": [
    {
     "data": {
      "text/html": [
       "<div>\n",
       "<style scoped>\n",
       "    .dataframe tbody tr th:only-of-type {\n",
       "        vertical-align: middle;\n",
       "    }\n",
       "\n",
       "    .dataframe tbody tr th {\n",
       "        vertical-align: top;\n",
       "    }\n",
       "\n",
       "    .dataframe thead th {\n",
       "        text-align: right;\n",
       "    }\n",
       "</style>\n",
       "<table border=\"1\" class=\"dataframe\">\n",
       "  <thead>\n",
       "    <tr style=\"text-align: right;\">\n",
       "      <th></th>\n",
       "      <th>labels</th>\n",
       "      <th>message</th>\n",
       "    </tr>\n",
       "  </thead>\n",
       "  <tbody>\n",
       "    <tr>\n",
       "      <th>0</th>\n",
       "      <td>ham</td>\n",
       "      <td>Go until jurong point, crazy.. Available only ...</td>\n",
       "    </tr>\n",
       "    <tr>\n",
       "      <th>1</th>\n",
       "      <td>ham</td>\n",
       "      <td>Ok lar... Joking wif u oni...</td>\n",
       "    </tr>\n",
       "    <tr>\n",
       "      <th>2</th>\n",
       "      <td>spam</td>\n",
       "      <td>Free entry in 2 a wkly comp to win FA Cup fina...</td>\n",
       "    </tr>\n",
       "    <tr>\n",
       "      <th>3</th>\n",
       "      <td>ham</td>\n",
       "      <td>U dun say so early hor... U c already then say...</td>\n",
       "    </tr>\n",
       "    <tr>\n",
       "      <th>4</th>\n",
       "      <td>ham</td>\n",
       "      <td>Nah I don't think he goes to usf, he lives aro...</td>\n",
       "    </tr>\n",
       "  </tbody>\n",
       "</table>\n",
       "</div>"
      ],
      "text/plain": [
       "  labels                                            message\n",
       "0    ham  Go until jurong point, crazy.. Available only ...\n",
       "1    ham                      Ok lar... Joking wif u oni...\n",
       "2   spam  Free entry in 2 a wkly comp to win FA Cup fina...\n",
       "3    ham  U dun say so early hor... U c already then say...\n",
       "4    ham  Nah I don't think he goes to usf, he lives aro..."
      ]
     },
     "execution_count": 3,
     "metadata": {},
     "output_type": "execute_result"
    }
   ],
   "source": [
    "df.drop(['Unnamed: 2', 'Unnamed: 3', 'Unnamed: 4'], axis = 1, inplace = True)\n",
    "df.columns = ['labels', 'message']\n",
    "df.head()"
   ]
  },
  {
   "cell_type": "code",
   "execution_count": 4,
   "id": "b3164252",
   "metadata": {},
   "outputs": [],
   "source": [
    "df['labels'] = df['labels'].map({'ham' : 0, 'spam' : 1})\n",
    "y = df['labels'].values"
   ]
  },
  {
   "cell_type": "code",
   "execution_count": 5,
   "id": "c0ce3e17",
   "metadata": {},
   "outputs": [],
   "source": [
    "X_train, X_test, y_train, y_test = train_test_split(df['message'], y, test_size = 0.3)"
   ]
  },
  {
   "cell_type": "markdown",
   "id": "53ac0b03",
   "metadata": {},
   "source": [
    "# Text processing\n",
    "## We select the maximum vocabulary size i.e. number of distinct words (tokens) as 20000\n",
    "### The tokenizer object tokenizes each distinct word by providing a integer value to it by doing fit_on_texts\n",
    "### These tokens (integers) are used to convert a sentence into a sequence (vector)\n",
    "\n",
    "### The tokenizer.word_index gives the dictionary where the istinct word is key and assigned integer is value"
   ]
  },
  {
   "cell_type": "code",
   "execution_count": 6,
   "id": "c59d8046",
   "metadata": {},
   "outputs": [],
   "source": [
    "tokenizer = Tokenizer(num_words = 20000)\n",
    "tokenizer.fit_on_texts(X_train)\n",
    "train_sequence = tokenizer.texts_to_sequences(X_train)\n",
    "test_sequence = tokenizer.texts_to_sequences(X_test)"
   ]
  },
  {
   "cell_type": "code",
   "execution_count": 7,
   "id": "fa80b183",
   "metadata": {},
   "outputs": [
    {
     "name": "stdout",
     "output_type": "stream",
     "text": [
      "7429 number of tokens found\n"
     ]
    }
   ],
   "source": [
    "v = len(tokenizer.word_index)\n",
    "print(f'{v} number of tokens found')"
   ]
  },
  {
   "cell_type": "markdown",
   "id": "c83f7e83",
   "metadata": {},
   "source": [
    "# Sequence processing\n",
    "### Once the sequence is found , it's not always of same length hence we pad them with zeros \n",
    "### by default the 0's are added infront , we did it in train sequence\n",
    "### In test_sequence we set the max length as the length of padded train sequence"
   ]
  },
  {
   "cell_type": "code",
   "execution_count": 8,
   "id": "34ee7c9a",
   "metadata": {},
   "outputs": [],
   "source": [
    "train_sequence = pad_sequences(train_sequence)\n",
    "test_sequence = pad_sequences(test_sequence, maxlen = train_sequence.shape[1])"
   ]
  },
  {
   "cell_type": "markdown",
   "id": "60fa207b",
   "metadata": {},
   "source": [
    "# Model\n",
    "### The input is the sequences\n",
    "### the Embedding layer is very important since it converts these words into vectors which are interpretable i.e. similar words will have greater cosine similarity and vice-versa. The input if number of distinct words +1 and the output representation is 25 dimensional vector. This 25 dimensions is hyperparameter\n",
    "### We will use Conv1D layer to find the pattern in 1 dimensional sequences.\n",
    "### We have Conv1D layer followed by Mapooling1D layer having 32, 64 and 128 filters respectively. Each filter is 1x3 and activation is ReLU\n",
    "### Just befor the Dense layer we apply GlobalMaxPooling1D layer\n",
    "### The Dense layer has 1 neuron since this is binary classification with sigmoid activation"
   ]
  },
  {
   "cell_type": "code",
   "execution_count": 9,
   "id": "fbbdeb6b",
   "metadata": {},
   "outputs": [],
   "source": [
    "i = Input(shape = (train_sequence.shape[1],))\n",
    "o = Embedding(v+1, 25)(i)\n",
    "o = Conv1D(32, 3, activation = 'relu')(o)\n",
    "o = MaxPooling1D(3)(o)\n",
    "o = Conv1D(64, 3, activation = 'relu')(o)\n",
    "o = MaxPooling1D(3)(o)\n",
    "o = Conv1D(128, 3, activation = 'relu')(o)\n",
    "o = GlobalMaxPooling1D()(o)\n",
    "o = Dense(1, activation = 'sigmoid')(o)\n",
    "\n",
    "model = Model(i, o)"
   ]
  },
  {
   "cell_type": "markdown",
   "id": "427caf17",
   "metadata": {},
   "source": [
    "# Compile and Fit\n",
    "### We use ADAM as optimizer, binary crossentropy as loss function and accuracy as metric\n",
    "### The model is trained for 10 epochs"
   ]
  },
  {
   "cell_type": "code",
   "execution_count": 10,
   "id": "68197ea3",
   "metadata": {},
   "outputs": [],
   "source": [
    "model.compile(optimizer = 'adam', loss = 'binary_crossentropy', metrics = ['accuracy'])"
   ]
  },
  {
   "cell_type": "code",
   "execution_count": 11,
   "id": "5e45f7d0",
   "metadata": {},
   "outputs": [
    {
     "name": "stdout",
     "output_type": "stream",
     "text": [
      "Epoch 1/10\n",
      "122/122 [==============================] - 4s 11ms/step - loss: 0.4243 - accuracy: 0.8564 - val_loss: 0.3549 - val_accuracy: 0.8750\n",
      "Epoch 2/10\n",
      "122/122 [==============================] - 1s 7ms/step - loss: 0.2419 - accuracy: 0.9123 - val_loss: 0.0866 - val_accuracy: 0.9773\n",
      "Epoch 3/10\n",
      "122/122 [==============================] - 1s 8ms/step - loss: 0.0573 - accuracy: 0.9838 - val_loss: 0.0792 - val_accuracy: 0.9821\n",
      "Epoch 4/10\n",
      "122/122 [==============================] - 1s 8ms/step - loss: 0.0347 - accuracy: 0.9918 - val_loss: 0.0872 - val_accuracy: 0.9827\n",
      "Epoch 5/10\n",
      "122/122 [==============================] - 1s 8ms/step - loss: 0.0279 - accuracy: 0.9946 - val_loss: 0.0920 - val_accuracy: 0.9827\n",
      "Epoch 6/10\n",
      "122/122 [==============================] - 1s 8ms/step - loss: 0.0263 - accuracy: 0.9954 - val_loss: 0.0922 - val_accuracy: 0.9850\n",
      "Epoch 7/10\n",
      "122/122 [==============================] - 1s 8ms/step - loss: 0.0247 - accuracy: 0.9954 - val_loss: 0.1009 - val_accuracy: 0.9827\n",
      "Epoch 8/10\n",
      "122/122 [==============================] - 1s 7ms/step - loss: 0.0247 - accuracy: 0.9954 - val_loss: 0.1040 - val_accuracy: 0.9821\n",
      "Epoch 9/10\n",
      "122/122 [==============================] - 1s 8ms/step - loss: 0.0238 - accuracy: 0.9954 - val_loss: 0.1223 - val_accuracy: 0.9803\n",
      "Epoch 10/10\n",
      "122/122 [==============================] - 1s 8ms/step - loss: 0.0249 - accuracy: 0.9956 - val_loss: 0.1005 - val_accuracy: 0.9827\n"
     ]
    }
   ],
   "source": [
    "r = model.fit(train_sequence, y_train, validation_data = (test_sequence, y_test), epochs = 10)"
   ]
  },
  {
   "cell_type": "markdown",
   "id": "f27bc632",
   "metadata": {},
   "source": [
    "# History plotter function\n",
    "\n",
    "###  This plots the history object with argument as 'loss' and 'accuracy'"
   ]
  },
  {
   "cell_type": "code",
   "execution_count": 12,
   "id": "16dbc3e4",
   "metadata": {},
   "outputs": [],
   "source": [
    "def history_plotter(model, argument):\n",
    "    plt.plot(model.history[argument], label = argument)\n",
    "    plt.plot(model.history['val_'+argument], label = 'validation '+argument)\n",
    "    plt.legend()\n",
    "    plt.xlabel('Epochs')\n",
    "    plt.ylabel(argument)\n",
    "    plt.title(argument)"
   ]
  },
  {
   "cell_type": "code",
   "execution_count": 13,
   "id": "37e9df91",
   "metadata": {},
   "outputs": [
    {
     "data": {
      "image/png": "[encoded data removed]",
      "text/plain": [
       "<Figure size 432x288 with 1 Axes>"
      ]
     },
     "metadata": {
      "needs_background": "light"
     },
     "output_type": "display_data"
    }
   ],
   "source": [
    "history_plotter(r, 'loss')"
   ]
  },
  {
   "cell_type": "code",
   "execution_count": 14,
   "id": "c3f7b34b",
   "metadata": {},
   "outputs": [
    {
     "data": {
      "image/png": "[encoded data removed]",
      "text/plain": [
       "<Figure size 432x288 with 1 Axes>"
      ]
     },
     "metadata": {
      "needs_background": "light"
     },
     "output_type": "display_data"
    }
   ],
   "source": [
    "history_plotter(r, 'accuracy')"
   ]
  }
 ],
 "metadata": {
  "kernelspec": {
   "display_name": "Python 3 (ipykernel)",
   "language": "python",
   "name": "python3"
  },
  "language_info": {
   "codemirror_mode": {
    "name": "ipython",
    "version": 3
   },
   "file_extension": ".py",
   "mimetype": "text/x-python",
   "name": "python",
   "nbconvert_exporter": "python",
   "pygments_lexer": "ipython3",
   "version": "3.9.6"
  }
 },
 "nbformat": 4,
 "nbformat_minor": 5
}
